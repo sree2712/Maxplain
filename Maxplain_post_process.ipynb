{
  "nbformat": 4,
  "nbformat_minor": 0,
  "metadata": {
    "colab": {
      "provenance": [],
      "collapsed_sections": [
        "UOsNV4Na6-Hh"
      ],
      "authorship_tag": "ABX9TyOuQqZvsEwWXiBeQnoVx91O",
      "include_colab_link": true
    },
    "kernelspec": {
      "name": "python3",
      "display_name": "Python 3"
    },
    "language_info": {
      "name": "python"
    }
  },
  "cells": [
    {
      "cell_type": "markdown",
      "metadata": {
        "id": "view-in-github",
        "colab_type": "text"
      },
      "source": [
        "<a href=\"https://colab.research.google.com/github/sree2712/Maxplain/blob/main/Maxplain_post_process.ipynb\" target=\"_parent\"><img src=\"https://colab.research.google.com/assets/colab-badge.svg\" alt=\"Open In Colab\"/></a>"
      ]
    },
    {
      "cell_type": "code",
      "execution_count": null,
      "metadata": {
        "id": "v8dG-Hc0QgVo"
      },
      "outputs": [],
      "source": [
        "import json\n",
        "\n",
        "file_path = '/content/ED_German_v1.2_test.json'\n",
        "\n",
        "with open(file_path, 'r') as f:\n",
        "    data = json.load(f)"
      ]
    },
    {
      "cell_type": "code",
      "source": [
        "dict1 = data['responses'][0]"
      ],
      "metadata": {
        "id": "JhTVexo8R3WM"
      },
      "execution_count": null,
      "outputs": []
    },
    {
      "cell_type": "code",
      "source": [
        "dict2 = data['responses'][1]\n",
        "dict2"
      ],
      "metadata": {
        "colab": {
          "base_uri": "https://localhost:8080/"
        },
        "id": "jYS7SIgxUx5w",
        "outputId": "60606bf3-38be-4e3e-815b-5a828ed297b2"
      },
      "execution_count": null,
      "outputs": [
        {
          "output_type": "execute_result",
          "data": {
            "text/plain": [
              "{'id. Response ID': '6',\n",
              " 'submitdate. Date submitted': '2023-05-25 14:26:44',\n",
              " 'lastpage. Last page': '6',\n",
              " 'startlanguage. Start language': 'en',\n",
              " 'seed. Seed': '113511892',\n",
              " 'startdate. Date started': '2023-05-25 13:42:30',\n",
              " 'datestamp. Date last action': '2023-05-25 14:26:44',\n",
              " 'G04Q13.  Please mention your Prolific ID below. It will help us facilitate fair payments.   ': 'sj',\n",
              " \"Q00.    What is the model's prediction for instance id 773?   💡Tip: You need to enter the exact keywords (underlined) that the model provides as an answer.  \": 'Bad Credit Risk',\n",
              " 'G01Q02[SQ001].    Does the applicant with instance id 773 have a critical account or loan elsewhere?\\xa0   💡Tip: Check the screenshot for relevant information. The value 1 means yes and 0 means no.\\xa0   [Yes]': 'No',\n",
              " 'G01Q02[SQ002].    Does the applicant with instance id 773 have a critical account or loan elsewhere?\\xa0   💡Tip: Check the screenshot for relevant information. The value 1 means yes and 0 means no.\\xa0   [No]': 'Yes',\n",
              " 'G01Q12[SQ001].   What are the three most important features for determining whether applicant 773 is a good or bad credit risk?    [Age, Loan amount, loan purpose is electronics]': 'No',\n",
              " 'G01Q12[SQ002].   What are the three most important features for determining whether applicant 773 is a good or bad credit risk?    [Loan amount, Critical account or loan elsewhere, age]': 'Yes',\n",
              " 'G01Q12[SQ003].   What are the three most important features for determining whether applicant 773 is a good or bad credit risk?    [Age, Loan amount, Years at current job]': 'No',\n",
              " \"G01Q04[SQ001]. \\xa0 \\xa0   Does the applicant have a better chance of being predicted as a good credit risk if he doesn't have a critical account or loan elsewhere?\\xa0   💡Tip: Check the screenshot for relevant information. The value 1 means yes and 0 means no.   [better chances with critical account or loan elsewhere]\": 'No',\n",
              " \"G01Q04[SQ002]. \\xa0 \\xa0   Does the applicant have a better chance of being predicted as a good credit risk if he doesn't have a critical account or loan elsewhere?\\xa0   💡Tip: Check the screenshot for relevant information. The value 1 means yes and 0 means no.   [better chances without critical account or loan elsewhere]\": 'Yes',\n",
              " 'G01Q09[SQ001]. \\xa0   How confident is the model that applicant 386 is a bad credit risk?    [the model is undecided (close to 50%)]': 'No',\n",
              " 'G01Q09[SQ002]. \\xa0   How confident is the model that applicant 386 is a bad credit risk?    [the model is fairly confident (more than 75%)]': 'Yes',\n",
              " 'G01Q13[SQ001]. \\xa0 \\xa0   Which of the model predictions will you trust more? That of applicant 971 or applicant 196?    [applicant 971]': 'No',\n",
              " 'G01Q13[SQ002]. \\xa0 \\xa0   Which of the model predictions will you trust more? That of applicant 971 or applicant 196?    [applicant 196]': 'Yes',\n",
              " \"G02Q11[SQ001]. \\xa0   You are given the information about where the model is typically correct, some information about applicant 272's profile, and the model's prediction. How likely is it that the model is correct about 272?    [Most likely incorrect]\": 'Yes',\n",
              " \"G02Q11[SQ002]. \\xa0   You are given the information about where the model is typically correct, some information about applicant 272's profile, and the model's prediction. How likely is it that the model is correct about 272?    [Most likely correct]\": 'No',\n",
              " 'G02Q10[SQ001].    Select the statement(s) that is true about the distribution of the model predictions.    [The model predicts more than a quarter applicants as Bad Credit Risk]': 'Yes',\n",
              " 'G02Q10[SQ002].    Select the statement(s) that is true about the distribution of the model predictions.    [The model predicts less than a third applicants as Bad Credit Risk]': 'No',\n",
              " 'G02Q10[SQ003].    Select the statement(s) that is true about the distribution of the model predictions.    [The model predicts less than a third applicants as Good Credit Risk]': 'No',\n",
              " 'G03Q17. \\xa0   What is the loan duration of applicant 331?   💡Tip: You need to enter the exact digits as circled in the screenshot.  ': '18',\n",
              " 'G04Q16[SQ001]. \\xa0   How does increasing the \"rents house\" attribute impact the model predicted probability of 76.32% of 489 being a good credit risk?\\xa0   💡Tip: The attributes coded as red, decrease the prediction probability if increased and vice versa.\\xa0The attributes coded as green, increase the prediction probability if increased and vice versa.\\xa0   [Increases the probability of being a good credit risk]': 'No',\n",
              " 'G04Q16[SQ002]. \\xa0   How does increasing the \"rents house\" attribute impact the model predicted probability of 76.32% of 489 being a good credit risk?\\xa0   💡Tip: The attributes coded as red, decrease the prediction probability if increased and vice versa.\\xa0The attributes coded as green, increase the prediction probability if increased and vice versa.\\xa0   [Decreases the probability of being a good credit risk]': 'Yes',\n",
              " 'G03Q05[SQ001]. \\xa0   What are the three most important features for determining whether an applicant is a good or bad credit risk?    [loan purpose electronics, has a telephone, Account Balance]': 'No',\n",
              " 'G03Q05[SQ002]. \\xa0   What are the three most important features for determining whether an applicant is a good or bad credit risk?    [critical account/loans elsewhere, Account Balance, Has a telephone]': 'Yes',\n",
              " 'G03Q05[SQ003]. \\xa0   What are the three most important features for determining whether an applicant is a good or bad credit risk?    [critical account/loans elsewhere, Account Balance, Years at current job]': 'No',\n",
              " 'G03Q06.    What is the overall accuracy of the model?   💡Tip: You need to enter the digits exactly as indicated in the circled section.  ': '0.745',\n",
              " 'G03Q12[SQ001].    What is the likelihood of applicant 795 being a good credit risk according to the model?    [Very likely (more than 75%)]': 'Yes',\n",
              " 'G03Q12[SQ002].    What is the likelihood of applicant 795 being a good credit risk according to the model?    [Not very likely (less than 25%)]': 'No',\n",
              " 'G04Q17. \\xa0   What is the loan amount of applicant 467?   💡Tip: You need to enter the exact digits as circled in the screenshot.  ': '7238',\n",
              " \"G05Q14[SQ001].  The purpose of the following subquestions each with a 0-10 scale (0- very low, 10 - very high) is to\\xa0provide insights into your subjective experience and help evaluate the effectiveness of the XAI interface aimed at providing actionable inputs for you to make sense of the model's predictions.    [How much mental and perceptual activity was required? Was the task easy or demanding, simple or complex?]\": '7',\n",
              " \"G05Q14[SQ002].  The purpose of the following subquestions each with a 0-10 scale (0- very low, 10 - very high) is to\\xa0provide insights into your subjective experience and help evaluate the effectiveness of the XAI interface aimed at providing actionable inputs for you to make sense of the model's predictions.    [How much time pressure did you feel due to the pace at which the tasks or task elements occurred? Was the pace slow or rapid?]\": '6',\n",
              " \"G05Q14[SQ003].  The purpose of the following subquestions each with a 0-10 scale (0- very low, 10 - very high) is to\\xa0provide insights into your subjective experience and help evaluate the effectiveness of the XAI interface aimed at providing actionable inputs for you to make sense of the model's predictions.    [How successful were you in performing the task? How satisfied were you with your performance?]\": '7',\n",
              " \"G05Q14[SQ004].  The purpose of the following subquestions each with a 0-10 scale (0- very low, 10 - very high) is to\\xa0provide insights into your subjective experience and help evaluate the effectiveness of the XAI interface aimed at providing actionable inputs for you to make sense of the model's predictions.    [How hard did you have to work (mentally and physically) to accomplish your level of performance?]\": '5',\n",
              " \"G05Q14[SQ005].  The purpose of the following subquestions each with a 0-10 scale (0- very low, 10 - very high) is to\\xa0provide insights into your subjective experience and help evaluate the effectiveness of the XAI interface aimed at providing actionable inputs for you to make sense of the model's predictions.    [How irritated, stressed, and annoyed versus content, relaxed, and complacent did you feel during the task?]\": '5',\n",
              " 'G05Q15[SQ001].  The purpose of the following subquestions is to assess your engagement levels across four dimensions – focused attention, perceived usability, aesthetic appeal, and reward – to better understand the usability of this evaluation study and enhance your experience.    [The time I spent using the XAI interface just slipped away.]': 'neutral',\n",
              " 'G05Q15[SQ002].  The purpose of the following subquestions is to assess your engagement levels across four dimensions – focused attention, perceived usability, aesthetic appeal, and reward – to better understand the usability of this evaluation study and enhance your experience.    [I found the XAI interface confusing to use.]': 'agree',\n",
              " 'G05Q15[SQ003].  The purpose of the following subquestions is to assess your engagement levels across four dimensions – focused attention, perceived usability, aesthetic appeal, and reward – to better understand the usability of this evaluation study and enhance your experience.    [The XAI interface was aesthetically appealing.]': 'neutral',\n",
              " 'G05Q15[SQ004].  The purpose of the following subquestions is to assess your engagement levels across four dimensions – focused attention, perceived usability, aesthetic appeal, and reward – to better understand the usability of this evaluation study and enhance your experience.    [Using the XAI interface was worthwhile.]': 'neutral',\n",
              " \"G06Q18[SQ001]. \\xa0   ED_German_done_v1   💡Tip: You need to copy the above code and fill it in prolific, which will indicate that you have successfully completed the survey. Payment won't be possible for incomplete surveys. You can also share any feedback you might have for us by filling in the comment section.   [Copied code successfully]\": 'No',\n",
              " \"G06Q18[SQ001comment]. \\xa0   ED_German_done_v1   💡Tip: You need to copy the above code and fill it in prolific, which will indicate that you have successfully completed the survey. Payment won't be possible for incomplete surveys. You can also share any feedback you might have for us by filling in the comment section.   [Copied code successfully][Comment]\": '',\n",
              " 'interviewtime. Total time': '2646.88',\n",
              " 'groupTime19. Group time: admin questions': '8.62',\n",
              " 'G04Q13Time. Question time: G04Q13': None,\n",
              " 'groupTime6. Group time: Capability Assessment': '34.32',\n",
              " 'Q00Time. Question time: Q00': None,\n",
              " 'G01Q02Time. Question time: G01Q02': None,\n",
              " 'G01Q12Time. Question time: G01Q12': None,\n",
              " 'G01Q04Time. Question time: G01Q04': None,\n",
              " 'G01Q09Time. Question time: G01Q09': None,\n",
              " 'G01Q13Time. Question time: G01Q13': None,\n",
              " 'groupTime11. Group time: Decision Support': '933.28',\n",
              " 'G02Q11Time. Question time: G02Q11': None,\n",
              " 'G02Q10Time. Question time: G02Q10': None,\n",
              " 'G03Q17Time. Question time: G03Q17': None,\n",
              " 'groupTime10. Group time: Domain Learning': '1614.23',\n",
              " 'G04Q16Time. Question time: G04Q16': None,\n",
              " 'G03Q05Time. Question time: G03Q05': None,\n",
              " 'G03Q06Time. Question time: G03Q06': None,\n",
              " 'G03Q12Time. Question time: G03Q12': None,\n",
              " 'G04Q17Time. Question time: G04Q17': None,\n",
              " 'groupTime22. Group time: Post task questions': '45.25',\n",
              " 'G05Q14Time. Question time: G05Q14': None,\n",
              " 'G05Q15Time. Question time: G05Q15': None,\n",
              " 'groupTime24. Group time: Completion Code': '11.18',\n",
              " 'G06Q18Time. Question time: G06Q18': None}"
            ]
          },
          "metadata": {},
          "execution_count": 50
        }
      ]
    },
    {
      "cell_type": "code",
      "source": [
        "# list of relevant question codes\n",
        "keys_of_correct_ans = ['G01Q02[SQ001]','G01Q12[SQ002]','G01Q04[SQ002]','G01Q09[SQ002]','G01Q13[SQ002]','G02Q11[SQ001]','G02Q10[SQ001]','G02Q10[SQ002]','G03Q17.','G04Q16[SQ002]','G03Q05[SQ002]','G03Q06.','G03Q12[SQ001]','G04Q17.']"
      ],
      "metadata": {
        "id": "kyRQ2oI8tNeJ"
      },
      "execution_count": null,
      "outputs": []
    },
    {
      "cell_type": "code",
      "source": [
        "keys_grp_times = ['groupTime6. Group time: Capability Assessment', 'groupTime11. Group time: Decision Support', 'groupTime10. Group time: Domain Learning']"
      ],
      "metadata": {
        "id": "PPa_1ttGUfNZ"
      },
      "execution_count": null,
      "outputs": []
    },
    {
      "cell_type": "code",
      "source": [
        "time_dict_list= []\n",
        "for response in data['responses']:\n",
        "  time_dict = {}\n",
        "  id = response['G04Q13.  Please mention your Prolific ID below. It will help us facilitate fair payments.   ']\n",
        "  if id != 'groundtruth':\n",
        "    time_list = []\n",
        "    for key in keys_grp_times:\n",
        "      time_list.append(response[key])\n",
        "    time_dict[id] = time_list\n",
        "\n",
        "  time_dict_list.append(time_dict)\n"
      ],
      "metadata": {
        "id": "IIfHpGRvWBXw"
      },
      "execution_count": null,
      "outputs": []
    },
    {
      "cell_type": "code",
      "source": [
        "time_dict_list"
      ],
      "metadata": {
        "colab": {
          "base_uri": "https://localhost:8080/"
        },
        "id": "GjezJg6GY7pD",
        "outputId": "88d05217-6dc4-4d5f-f21f-db870a106196"
      },
      "execution_count": null,
      "outputs": [
        {
          "output_type": "execute_result",
          "data": {
            "text/plain": [
              "[{},\n",
              " {'sj': ['34.32', '933.28', '1614.23']},\n",
              " {'Atharv': ['466.88', '290.85', '181.52']},\n",
              " {'1234': ['482.04', '1269', '238.94']},\n",
              " {'test dont use this': ['6.04', None, None]},\n",
              " {'Rohan Chandrashekar': ['616.43', '504.26', '157.39']}]"
            ]
          },
          "metadata": {},
          "execution_count": 58
        }
      ]
    },
    {
      "cell_type": "code",
      "source": [
        "def getListOfMatches(dict1, dict2):\n",
        "  matching_keys = [key for key, value in dict2.items() if key in dict1 and dict1[key] == value]\n",
        "  return matching_keys\n"
      ],
      "metadata": {
        "id": "DNPmIXBrsF-x"
      },
      "execution_count": null,
      "outputs": []
    },
    {
      "cell_type": "code",
      "source": [
        "mk = getListOfMatches(dict1, dict2)\n",
        "mk"
      ],
      "metadata": {
        "colab": {
          "base_uri": "https://localhost:8080/"
        },
        "id": "MGKdS8BVxQi0",
        "outputId": "728695c1-a0c3-4cd7-ca9b-0e215789e605"
      },
      "execution_count": null,
      "outputs": [
        {
          "output_type": "execute_result",
          "data": {
            "text/plain": [
              "['G01Q02[SQ001].    Does the applicant with instance id 773 have a critical account or loan elsewhere?\\xa0   💡Tip: Check the screenshot for relevant information. The value 1 means yes and 0 means no.\\xa0   [Yes]',\n",
              " 'G01Q12[SQ002].   What are the three most important features for determining whether applicant 773 is a good or bad credit risk?    [Loan amount, Critical account or loan elsewhere, age]',\n",
              " \"G01Q04[SQ002]. \\xa0 \\xa0   Does the applicant have a better chance of being predicted as a good credit risk if he doesn't have a critical account or loan elsewhere?\\xa0   💡Tip: Check the screenshot for relevant information. The value 1 means yes and 0 means no.   [better chances without critical account or loan elsewhere]\",\n",
              " 'G01Q09[SQ002]. \\xa0   How confident is the model that applicant 386 is a bad credit risk?    [the model is fairly confident (more than 75%)]',\n",
              " 'G01Q13[SQ002]. \\xa0 \\xa0   Which of the model predictions will you trust more? That of applicant 971 or applicant 196?    [applicant 196]',\n",
              " \"G02Q11[SQ001]. \\xa0   You are given the information about where the model is typically correct, some information about applicant 272's profile, and the model's prediction. How likely is it that the model is correct about 272?    [Most likely incorrect]\",\n",
              " 'G02Q10[SQ001].    Select the statement(s) that is true about the distribution of the model predictions.    [The model predicts more than a quarter applicants as Bad Credit Risk]',\n",
              " 'G03Q17. \\xa0   What is the loan duration of applicant 331?   💡Tip: You need to enter the exact digits as circled in the screenshot.  ',\n",
              " 'G04Q16[SQ002]. \\xa0   How does increasing the \"rents house\" attribute impact the model predicted probability of 76.32% of 489 being a good credit risk?\\xa0   💡Tip: The attributes coded as red, decrease the prediction probability if increased and vice versa.\\xa0The attributes coded as green, increase the prediction probability if increased and vice versa.\\xa0   [Decreases the probability of being a good credit risk]',\n",
              " 'G03Q05[SQ002]. \\xa0   What are the three most important features for determining whether an applicant is a good or bad credit risk?    [critical account/loans elsewhere, Account Balance, Has a telephone]',\n",
              " 'G03Q06.    What is the overall accuracy of the model?   💡Tip: You need to enter the digits exactly as indicated in the circled section.  ',\n",
              " 'G03Q12[SQ001].    What is the likelihood of applicant 795 being a good credit risk according to the model?    [Very likely (more than 75%)]',\n",
              " 'G04Q17. \\xa0   What is the loan amount of applicant 467?   💡Tip: You need to enter the exact digits as circled in the screenshot.  ']"
            ]
          },
          "metadata": {},
          "execution_count": 41
        }
      ]
    },
    {
      "cell_type": "code",
      "source": [
        "len(data['responses'])"
      ],
      "metadata": {
        "colab": {
          "base_uri": "https://localhost:8080/"
        },
        "id": "PUkJ9D-FGx4p",
        "outputId": "54c97529-6bfe-4d21-c510-c8e3b6cc64a4"
      },
      "execution_count": null,
      "outputs": [
        {
          "output_type": "execute_result",
          "data": {
            "text/plain": [
              "6"
            ]
          },
          "metadata": {},
          "execution_count": 54
        }
      ]
    },
    {
      "cell_type": "code",
      "source": [
        "counter =0\n",
        "for k in keys_of_correct_ans:\n",
        "  if any(k in key for key in mk):\n",
        "    counter += 1\n",
        "        # Code to execute if the substring is found in any key\n",
        "        # print(f\"The substring '{substring}' is present in at least one key\")\n"
      ],
      "metadata": {
        "id": "munxcBmtxwQO"
      },
      "execution_count": null,
      "outputs": []
    },
    {
      "cell_type": "code",
      "source": [
        "counter"
      ],
      "metadata": {
        "colab": {
          "base_uri": "https://localhost:8080/"
        },
        "id": "5gJNhsyhKugr",
        "outputId": "05a2a3a2-ff9f-4805-88f0-b0ac38d46fb9"
      },
      "execution_count": null,
      "outputs": [
        {
          "output_type": "execute_result",
          "data": {
            "text/plain": [
              "13"
            ]
          },
          "metadata": {},
          "execution_count": 43
        }
      ]
    },
    {
      "cell_type": "code",
      "source": [
        "def attentionChecker(qn_list):\n",
        "  return 0"
      ],
      "metadata": {
        "id": "qXCUJd0f-2si"
      },
      "execution_count": null,
      "outputs": []
    },
    {
      "cell_type": "code",
      "source": [
        "def timePenaltyChecker():\n",
        "  return 0"
      ],
      "metadata": {
        "id": "MDVJ0GSaFD3i"
      },
      "execution_count": null,
      "outputs": []
    },
    {
      "cell_type": "code",
      "source": [
        "# Example dictionary\n",
        "data = {\n",
        "    \"key1\": \"value1\",\n",
        "    \"key2\": \"value2\",\n",
        "    \"key3\": \"value3\"\n",
        "}\n",
        "\n",
        "# List of substrings to search\n",
        "substrings = [\"key\", \"value\"]\n",
        "\n",
        "# Iterate over each substring\n",
        "for substring in substrings:\n",
        "    # Check if the substring is present in any of the keys\n",
        "    if any(substring in key for key in data.keys()):\n",
        "        # Code to execute if the substring is found in any key\n",
        "        print(f\"The substring '{substring}' is present in at least one key\")\n",
        "    else:\n",
        "        # Code to execute if the substring is not found in any key\n",
        "        print(f\"The substring '{substring}' is not present in any key\")\n"
      ],
      "metadata": {
        "colab": {
          "base_uri": "https://localhost:8080/"
        },
        "id": "roTVZP8nR5EP",
        "outputId": "ae70aaaa-d0c7-4828-fca8-4221e52a6f32"
      },
      "execution_count": null,
      "outputs": [
        {
          "output_type": "stream",
          "name": "stdout",
          "text": [
            "The key 'key1' contains the substring(s): key\n",
            "The key 'key2' contains the substring(s): key\n",
            "The key 'key3' contains the substring(s): key\n"
          ]
        }
      ]
    },
    {
      "cell_type": "code",
      "source": [
        "# Two example dictionaries\n",
        "dict1 = {\"key1\": \"value1\", \"key2\": \"value2\", \"key3\": \"value3\"}\n",
        "dict2 = {\"key1\": \"value1\", \"key2\": \"value4\", \"key5\": \"value5\"}\n",
        "\n",
        "# List of keys with matching key-value pairs\n",
        "matching_keys = [key for key, value in dict1.items() if key in dict2 and dict2[key] == value]\n",
        "\n",
        "print(f\"Matching keys: {matching_keys}\")\n"
      ],
      "metadata": {
        "colab": {
          "base_uri": "https://localhost:8080/"
        },
        "id": "QNptPgTWsGZb",
        "outputId": "b6d283f6-8147-4c9a-b647-63fecc27dd96"
      },
      "execution_count": null,
      "outputs": [
        {
          "output_type": "stream",
          "name": "stdout",
          "text": [
            "Matching keys: ['key1']\n"
          ]
        }
      ]
    },
    {
      "cell_type": "markdown",
      "source": [
        "### TSV to XLSX"
      ],
      "metadata": {
        "id": "Z3PO6D_w_-Gw"
      }
    },
    {
      "cell_type": "code",
      "source": [
        "import pandas as pd\n",
        "\n",
        "def tsv_to_csv(input_file, output_file_xlsx):\n",
        "    # Read TSV file into a DataFrame\n",
        "    df = pd.read_csv(input_file, sep='\\t')\n",
        "\n",
        "    # Write DataFrame to CSV file\n",
        "    # df.to_csv(output_file_csv, index=False)\n",
        "\n",
        "    # Write DataFrame to Excel file (optional)\n",
        "    df.to_excel(output_file_xlsx, index=False)\n",
        "\n",
        "if __name__ == \"__main__\":\n",
        "    input_tsv_file = '/content/ED_C_Accepted.tsv'\n",
        "    # output_csv_file = 'output2.csv'\n",
        "    output_xlsx_file = '/content/ED_C_Accepted.xlsx'\n",
        "\n",
        "    tsv_to_csv(input_tsv_file, output_xlsx_file)\n"
      ],
      "metadata": {
        "id": "4SJcDAMuL79e"
      },
      "execution_count": null,
      "outputs": []
    },
    {
      "cell_type": "markdown",
      "source": [
        "### Count incorrect answers"
      ],
      "metadata": {
        "id": "2-xRrRe5ADrB"
      }
    },
    {
      "cell_type": "code",
      "source": [
        "import pandas as pd\n",
        "# Specify the file path of your XLSX file\n",
        "file_path = \"/content/Maxplain _ Results (1).xlsx\"\n",
        "\n",
        "# Read a specific sheet by sheet name\n",
        "df_ED_G = pd.read_excel(file_path, sheet_name=\"NiXAI - German\")\n",
        "df_ED_C = pd.read_excel(file_path, sheet_name=\"NiXAI - Compas\")\n",
        "df_TTM_G = pd.read_excel(file_path, sheet_name=\"iXAI - German\")\n",
        "df_TTM_C = pd.read_excel(file_path, sheet_name=\"iXAI - Compas\")"
      ],
      "metadata": {
        "id": "xYu_BKovMeZ5"
      },
      "execution_count": null,
      "outputs": []
    },
    {
      "cell_type": "code",
      "source": [
        "df_TTM_C.head(5)"
      ],
      "metadata": {
        "id": "3F36vxYqW322"
      },
      "execution_count": null,
      "outputs": []
    },
    {
      "cell_type": "code",
      "source": [
        "# Define the substring of the column name you want to find\n",
        "def col_num_finder(substring, df):\n",
        "  # substring = 'G00Q01'\n",
        "  # print(substring)\n",
        "  # Get the column number for the column containing the substring\n",
        "  column_number = df.columns.get_loc([col for col in df.columns if substring in col][0])\n",
        "  # print(column_number)\n",
        "  return column_number\n",
        "  # print(\"Column number for substring '{}': {}\".format(substring, column_number))"
      ],
      "metadata": {
        "id": "fPAZg2_MAbqM"
      },
      "execution_count": null,
      "outputs": []
    },
    {
      "cell_type": "code",
      "source": [
        "def cols_finder(col_interest_names, df):\n",
        "  cols_num_interest = []\n",
        "  for col in col_interest_names:\n",
        "    col_num = col_num_finder(col, df)\n",
        "    cols_num_interest.append(col_num)\n",
        "  return cols_num_interest"
      ],
      "metadata": {
        "id": "KTUMIwEVsv4v"
      },
      "execution_count": null,
      "outputs": []
    },
    {
      "cell_type": "code",
      "source": [
        "def cell_compare(df, row1, row2, col):\n",
        "  # Access the cells for the given row and column numbers\n",
        "  cell1_value = df.iloc[row1, col]\n",
        "  cell2_value = df.iloc[row2, col]\n",
        "\n",
        "  # Compare the two cells\n",
        "  if cell1_value == cell2_value:\n",
        "      return 0\n",
        "  else:\n",
        "      return 1"
      ],
      "metadata": {
        "id": "JHGoTZl2t8RQ"
      },
      "execution_count": null,
      "outputs": []
    },
    {
      "cell_type": "code",
      "source": [
        "col_interest_ED_G = ['G01Q01[SQ001]', 'G01Q02[SQ002]', 'G01Q03[SQ002]', 'G01Q04[SQ002]', 'G02Q01[SQ002]', 'G02Q02[SQ001]', 'G02Q03[SQ001]', 'G02Q04[SQ002]', 'G03Q01[SQ001]',\n",
        "                     'G03Q02[SQ002]', 'G03Q03[SQ002]', 'G03Q04[SQ002]', 'G03Q05[SQ001]']\n",
        "\n",
        "col_interest_ED_C = ['G01Q01[SQ002]', 'G01Q02[SQ002]', 'G01Q03[SQ002]', 'G01Q04[SQ001]', 'G02Q01[SQ001]', 'G02Q02[SQ002]', 'G02Q03[SQ002]', 'G02Q04[SQ001]', 'G03Q01[SQ001]',\n",
        "                     'G03Q02[SQ002]', 'G03Q03[SQ001]', 'G03Q04[SQ001]', 'G03Q05[SQ001]']\n",
        "\n",
        "col_interest_TTM_G = ['G01Q01[SQ001]', 'G01Q02[SQ002]', 'G01Q03[SQ001]', 'G01Q04[SQ002]', 'G01Q05[SQ002]', 'G02Q01[SQ002]', 'G02Q02[SQ001]', 'G02Q03[SQ002]', 'G02Q04[SQ001]',\n",
        "                      'G02Q05[SQ001]', 'G03Q01[SQ002]', 'G03Q02[SQ002]', 'G03Q04[SQ001]', 'G03Q04[SQ001]', 'G03Q05[SQ001]', 'G03Q06[SQ002]', 'G03Q07[SQ001]']\n",
        "\n",
        "col_interest_TTM_C = ['G01Q01[SQ001]', 'G01Q02[SQ003]', 'G01Q03[SQ002]', 'G01Q04[SQ002]', 'G01Q05[SQ001]', 'G02Q01[SQ001]', 'G02Q02[SQ002]', 'G02Q03[SQ002]', 'G02Q04[SQ002]',\n",
        "                      'G02Q05[SQ002]', 'G03Q01[SQ002]', 'G03Q02[SQ003]', 'G03Q03[SQ001]', 'G03Q04[SQ001]', 'G03Q05[SQ001]', 'G03Q06[SQ001]', 'G03Q07[SQ001]']"
      ],
      "metadata": {
        "id": "BWvob6k3oxBV"
      },
      "execution_count": null,
      "outputs": []
    },
    {
      "cell_type": "code",
      "source": [
        "def get_diff(df, cols_num_int, last_row):\n",
        "  differences = []\n",
        "  for row in range(1,last_row+1):\n",
        "    diff= 0\n",
        "    for col in cols_num_int:\n",
        "      diff += cell_compare(df, 0,row,col)\n",
        "    differences.append(diff)\n",
        "  return differences"
      ],
      "metadata": {
        "id": "rPpXIT_T_V63"
      },
      "execution_count": null,
      "outputs": []
    },
    {
      "cell_type": "code",
      "source": [
        "def diff_csv(differences, filename):\n",
        "  import csv\n",
        "  # Write the array to a CSV file\n",
        "  with open(filename, 'w', newline='') as csvfile:\n",
        "      csvwriter = csv.writer(csvfile)\n",
        "      for item in differences:\n",
        "          csvwriter.writerow([item])"
      ],
      "metadata": {
        "id": "6mQWfyjbLrQM"
      },
      "execution_count": null,
      "outputs": []
    },
    {
      "cell_type": "code",
      "source": [
        "cols_num_int_ED_G = cols_finder(col_interest_ED_G, df_ED_G)\n",
        "print(cols_num_int_ED_G)"
      ],
      "metadata": {
        "colab": {
          "base_uri": "https://localhost:8080/"
        },
        "id": "c7cSKYagWn2B",
        "outputId": "5263e2f9-1fd7-45b8-8593-3f3711d5f702"
      },
      "execution_count": null,
      "outputs": [
        {
          "output_type": "stream",
          "name": "stdout",
          "text": [
            "[8, 11, 14, 18, 20, 23, 25, 28, 29, 32, 34, 36, 41]\n"
          ]
        }
      ]
    },
    {
      "cell_type": "code",
      "source": [
        "differences_ED_G = get_diff(df_ED_G, cols_num_int_ED_G, 26)\n",
        "diff_csv(differences_ED_G, 'ED_G_incorrect_ans.csv')\n",
        "print(differences_ED_G)"
      ],
      "metadata": {
        "colab": {
          "base_uri": "https://localhost:8080/"
        },
        "id": "L_TPGQrtDfIt",
        "outputId": "92b97f2c-5ec5-4805-821b-4655e5b1633d"
      },
      "execution_count": null,
      "outputs": [
        {
          "output_type": "stream",
          "name": "stdout",
          "text": [
            "[2, 1, 4, 2, 1, 1, 7, 2, 0, 3, 5, 4, 8, 8, 6, 6, 2, 3, 3, 1, 2, 2, 4, 1, 3, 6]\n"
          ]
        }
      ]
    },
    {
      "cell_type": "code",
      "source": [
        "cols_num_int_ED_C = cols_finder(col_interest_ED_C, df_ED_C)\n",
        "print(cols_num_int_ED_C)"
      ],
      "metadata": {
        "colab": {
          "base_uri": "https://localhost:8080/"
        },
        "id": "7NCu8dL0JGgC",
        "outputId": "4c7ee37c-e604-44c2-9760-1cebdfb9348a"
      },
      "execution_count": null,
      "outputs": [
        {
          "output_type": "stream",
          "name": "stdout",
          "text": [
            "[9, 14, 17, 18, 20, 23, 27, 28, 30, 33, 34, 39, 42]\n"
          ]
        }
      ]
    },
    {
      "cell_type": "code",
      "source": [
        "differences_ED_C = get_diff(df_ED_C, cols_num_int_ED_C, 27)\n",
        "diff_csv(differences_ED_C, 'ED_C_incorrect_ans.csv')\n",
        "print(differences_ED_C)"
      ],
      "metadata": {
        "colab": {
          "base_uri": "https://localhost:8080/"
        },
        "id": "TbOaZoFyFYSs",
        "outputId": "c53ae6b2-1576-47b7-daad-ca2776103776"
      },
      "execution_count": null,
      "outputs": [
        {
          "output_type": "stream",
          "name": "stdout",
          "text": [
            "[4, 1, 5, 1, 5, 1, 1, 2, 3, 1, 0, 7, 1, 1, 2, 0, 2, 4, 2, 1, 3, 3, 7, 2, 7, 2, 5]\n"
          ]
        }
      ]
    },
    {
      "cell_type": "code",
      "source": [
        "cols_num_int_TTM_G = cols_finder(col_interest_TTM_G, df_TTM_G)\n",
        "print(cols_num_int_TTM_G)"
      ],
      "metadata": {
        "colab": {
          "base_uri": "https://localhost:8080/"
        },
        "id": "ebVQQyghXujo",
        "outputId": "04eddaec-e736-4d26-8605-12ab534e74bf"
      },
      "execution_count": null,
      "outputs": [
        {
          "output_type": "stream",
          "name": "stdout",
          "text": [
            "[8, 11, 16, 19, 21, 23, 27, 30, 31, 33, 36, 38, 42, 42, 46, 49, 50]\n"
          ]
        }
      ]
    },
    {
      "cell_type": "code",
      "source": [
        "differences_TTM_G = get_diff(df_TTM_G, cols_num_int_TTM_G, 27)\n",
        "diff_csv(differences_TTM_G, 'TTM_G_incorrect_ans.csv')\n",
        "print(differences_TTM_G)"
      ],
      "metadata": {
        "colab": {
          "base_uri": "https://localhost:8080/"
        },
        "id": "oaNjMn9KG85k",
        "outputId": "d81df6b4-2853-495a-a79b-0f605dfe14a1"
      },
      "execution_count": null,
      "outputs": [
        {
          "output_type": "stream",
          "name": "stdout",
          "text": [
            "[1, 1, 5, 2, 2, 2, 3, 2, 1, 3, 4, 3, 2, 3, 1, 4, 5, 4, 3, 2, 3, 4, 3, 2, 2, 1, 3]\n"
          ]
        }
      ]
    },
    {
      "cell_type": "code",
      "source": [
        "cols_num_int_TTM_C = cols_finder(col_interest_TTM_C, df_TTM_C)\n",
        "print(cols_num_int_TTM_C)"
      ],
      "metadata": {
        "colab": {
          "base_uri": "https://localhost:8080/"
        },
        "id": "wt1UZwByYeVy",
        "outputId": "390c83a6-8f9e-4b95-9502-f58f6321f3c5"
      },
      "execution_count": null,
      "outputs": [
        {
          "output_type": "stream",
          "name": "stdout",
          "text": [
            "[8, 12, 17, 19, 20, 22, 28, 30, 32, 34, 36, 39, 40, 42, 47, 49, 52]\n"
          ]
        }
      ]
    },
    {
      "cell_type": "code",
      "source": [
        "differences_TTM_C = get_diff(df_TTM_C, cols_num_int_TTM_C, 26)\n",
        "diff_csv(differences_TTM_C, 'TTM_C_incorrect_ans.csv')\n",
        "print(differences_TTM_C)"
      ],
      "metadata": {
        "colab": {
          "base_uri": "https://localhost:8080/"
        },
        "id": "H20U1CUZYzPh",
        "outputId": "a46c5ae2-94e1-4267-cd5f-4c25a80422b3"
      },
      "execution_count": null,
      "outputs": [
        {
          "output_type": "stream",
          "name": "stdout",
          "text": [
            "[2, 1, 5, 0, 2, 4, 0, 1, 0, 0, 2, 0, 2, 0, 3, 2, 1, 0, 0, 1, 2, 4, 2, 4, 1, 1]\n"
          ]
        }
      ]
    },
    {
      "cell_type": "markdown",
      "source": [
        "### Hypothesis Testing"
      ],
      "metadata": {
        "id": "UOsNV4Na6-Hh"
      }
    },
    {
      "cell_type": "code",
      "source": [
        "import numpy as np\n",
        "from scipy.stats import mannwhitneyu"
      ],
      "metadata": {
        "id": "4hXNPFmo7BIb"
      },
      "execution_count": null,
      "outputs": []
    },
    {
      "cell_type": "code",
      "source": [
        "ED = np.array([\n",
        "    84.61538462, 92.30769231, 69.23076923, 84.61538462, 92.30769231, 92.30769231,\n",
        "    46.15384615, 84.61538462, 100, 76.92307692, 61.53846154, 69.23076923,\n",
        "    38.46153846, 38.46153846, 53.84615385, 53.84615385, 84.61538462, 76.92307692,\n",
        "    76.92307692, 92.30769231, 84.61538462, 84.61538462, 69.23076923, 92.30769231,\n",
        "    76.92307692, 53.84615385, 69.23076923, 92.30769231, 61.53846154, 92.30769231,\n",
        "    61.53846154, 92.30769231, 92.30769231, 84.61538462, 76.92307692, 92.30769231,\n",
        "    100, 46.15384615, 92.30769231, 92.30769231, 84.61538462, 100, 84.61538462,\n",
        "    69.23076923, 84.61538462, 92.30769231, 76.92307692, 76.92307692, 46.15384615,\n",
        "    84.61538462, 46.15384615, 84.61538462, 61.53846154\n",
        "])"
      ],
      "metadata": {
        "id": "x9K7vrwz9eCv"
      },
      "execution_count": null,
      "outputs": []
    },
    {
      "cell_type": "code",
      "source": [
        "ttm = np.array([94.11764706, 94.11764706, 70.58823529, 88.23529412, 88.23529412,\n",
        "       88.23529412, 82.35294118, 88.23529412, 94.11764706, 82.35294118,\n",
        "       76.47058824, 82.35294118, 88.23529412, 82.35294118, 94.11764706,\n",
        "       76.47058824, 70.58823529, 76.47058824, 82.35294118, 88.23529412,\n",
        "       82.35294118, 76.47058824, 82.35294118, 88.23529412, 88.23529412,\n",
        "       94.11764706, 82.35294118, 88.23529412, 94.11764706, 70.58823529,\n",
        "       100, 88.23529412, 76.47058824, 100, 94.11764706, 100, 100, 88.23529412,\n",
        "       100, 88.23529412, 100, 82.35294118, 88.23529412, 94.11764706, 100, 100,\n",
        "       94.11764706, 88.23529412, 76.47058824, 88.23529412, 76.47058824,\n",
        "       94.11764706, 94.11764706,])\n"
      ],
      "metadata": {
        "id": "6UiThnhoAjxx"
      },
      "execution_count": null,
      "outputs": []
    },
    {
      "cell_type": "code",
      "source": [
        "statistic, p_value = mannwhitneyu(ttm, ED, alternative='Greater')"
      ],
      "metadata": {
        "id": "XYKSUHrNCqQV"
      },
      "execution_count": null,
      "outputs": []
    },
    {
      "cell_type": "code",
      "source": [
        "# Print the results\n",
        "print(\"Statistic:\", statistic)\n",
        "print(\"One-sided p-value:\", p_value)\n",
        "\n",
        "# Check if the result is statistically significant at a significance level of 0.05\n",
        "if p_value < 0.05:\n",
        "    print(\"Reject the null hypothesis. Group B is statistically better than Group A.\")\n",
        "else:\n",
        "    print(\"Fail to reject the null hypothesis. There is no sufficient evidence to conclude that Group B is better than Group A.\")"
      ],
      "metadata": {
        "colab": {
          "base_uri": "https://localhost:8080/"
        },
        "id": "gkzRSu-YC49y",
        "outputId": "b74b1cd4-4d94-4e4c-b5ba-9a9d3cf8d002"
      },
      "execution_count": null,
      "outputs": [
        {
          "output_type": "stream",
          "name": "stdout",
          "text": [
            "Statistic: 1922.0\n",
            "One-sided p-value: 0.0005140196096341286\n",
            "Reject the null hypothesis. Group B is statistically better than Group A.\n"
          ]
        }
      ]
    },
    {
      "cell_type": "code",
      "source": [
        "from scipy.stats import shapiro\n",
        "# Perform Shapiro-Wilk test\n",
        "statistic, p_value = shapiro(ED)\n",
        "\n",
        "# Check if data is normal based on p-value\n",
        "if p_value > 0.05:\n",
        "    print(\"The data is likely normally distributed.\")\n",
        "else:\n",
        "    print(\"The data is not normally distributed.\")"
      ],
      "metadata": {
        "colab": {
          "base_uri": "https://localhost:8080/"
        },
        "id": "UqiBAXqxBaZ6",
        "outputId": "958d7a13-a0b6-4fd0-a0b9-9cb7498620cd"
      },
      "execution_count": null,
      "outputs": [
        {
          "output_type": "stream",
          "name": "stdout",
          "text": [
            "The data is not normally distributed.\n"
          ]
        }
      ]
    },
    {
      "cell_type": "code",
      "source": [],
      "metadata": {
        "id": "FxRuXEb_Y_Fl"
      },
      "execution_count": null,
      "outputs": []
    },
    {
      "cell_type": "markdown",
      "source": [
        "### UES Data Processing"
      ],
      "metadata": {
        "id": "ISJY3zGa1JWL"
      }
    },
    {
      "cell_type": "code",
      "source": [
        "def get_UES_viz(df_UES, start_col):\n",
        "  results = {}\n",
        "  for i in range(1,5):\n",
        "    cat_counts_per = df_UES.iloc[:, i+start_col].value_counts(normalize=True) * 100\n",
        "    cat_counts_per = cat_counts_per.round(2)\n",
        "    cat_counts_dict = cat_counts_per.to_dict()\n",
        "    arr_cat_count = []\n",
        "    arr_cat_count.append(cat_counts_dict['strongly disagree'] if 'strongly disagree' in cat_counts_dict else 0)\n",
        "    arr_cat_count.append(cat_counts_dict['disagree'] if 'disagree' in cat_counts_dict else 0)\n",
        "    arr_cat_count.append(cat_counts_dict['neutral'] if 'neutral' in cat_counts_dict else 0)\n",
        "    arr_cat_count.append(cat_counts_dict['agree'] if 'agree' in cat_counts_dict else 0)\n",
        "    arr_cat_count.append(cat_counts_dict['strongly agree'] if 'strongly agree' in cat_counts_dict else 0)\n",
        "    key = 'Q '+str(i)\n",
        "    value = arr_cat_count\n",
        "    # print(arr_cat_count)\n",
        "    results[key] = value\n",
        "  print(results)\n",
        "  return results"
      ],
      "metadata": {
        "id": "1q9VmKcIOdOg"
      },
      "execution_count": null,
      "outputs": []
    },
    {
      "cell_type": "code",
      "source": [
        "cols_with_likert_data = ['G04Q02[SQ001]', 'G04Q02[SQ002]', 'G04Q02[SQ003]', 'G04Q02[SQ004]']\n",
        "print(cols_finder(cols_with_likert_data, df_ED_G))"
      ],
      "metadata": {
        "colab": {
          "base_uri": "https://localhost:8080/"
        },
        "id": "COpAxHWLNqvL",
        "outputId": "1c8d574d-b686-4ae4-b381-7d38f0bfa419"
      },
      "execution_count": null,
      "outputs": [
        {
          "output_type": "stream",
          "name": "stdout",
          "text": [
            "[51, 52, 53, 54]\n"
          ]
        }
      ]
    },
    {
      "cell_type": "code",
      "source": [
        "results_TTM_G = get_UES_viz(df_TTM_G, 56)\n",
        "results_TTM_C = get_UES_viz(df_TTM_C, 59)\n",
        "results_ED_G = get_UES_viz(df_ED_G, 50)\n",
        "results_ED_C = get_UES_viz(df_ED_C, 50)"
      ],
      "metadata": {
        "id": "_Rjk5q3ctqj_"
      },
      "execution_count": null,
      "outputs": []
    },
    {
      "cell_type": "code",
      "source": [
        "results_q1 = {}\n",
        "results_q1['TTM_G'] = results_TTM_G['Q 1']\n",
        "results_q1['TTM_C'] = results_TTM_C['Q 1']\n",
        "results_q1['ED_G'] = results_ED_G['Q 1']\n",
        "results_q1['ED_C'] = results_ED_C['Q 1']"
      ],
      "metadata": {
        "id": "HXjkxJgQuxoS"
      },
      "execution_count": null,
      "outputs": []
    },
    {
      "cell_type": "code",
      "source": [
        "results_q2 = {}\n",
        "results_q2['TTM_G'] = results_TTM_G['Q 2']\n",
        "results_q2['TTM_C'] = results_TTM_C['Q 2']\n",
        "results_q2['ED_G'] = results_ED_G['Q 2']\n",
        "results_q2['ED_C'] = results_ED_C['Q 2']"
      ],
      "metadata": {
        "id": "ZyZIGPVPv30O"
      },
      "execution_count": null,
      "outputs": []
    },
    {
      "cell_type": "code",
      "source": [
        "results_q3 = {}\n",
        "results_q3['TTM_G'] = results_TTM_G['Q 3']\n",
        "results_q3['TTM_C'] = results_TTM_C['Q 3']\n",
        "results_q3['ED_G'] = results_ED_G['Q 3']\n",
        "results_q3['ED_C'] = results_ED_C['Q 3']"
      ],
      "metadata": {
        "id": "A7phhl33wV2D"
      },
      "execution_count": null,
      "outputs": []
    },
    {
      "cell_type": "code",
      "source": [
        "results_q4 = {}\n",
        "results_q4['TTM_G'] = results_TTM_G['Q 4']\n",
        "results_q4['TTM_C'] = results_TTM_C['Q 4']\n",
        "results_q4['ED_G'] = results_ED_G['Q 4']\n",
        "results_q4['ED_C'] = results_ED_C['Q 4']"
      ],
      "metadata": {
        "id": "vIG45m7HwgtD"
      },
      "execution_count": null,
      "outputs": []
    },
    {
      "cell_type": "code",
      "source": [
        "import numpy as np\n",
        "import matplotlib.pyplot as plt\n",
        "\n",
        "\n",
        "category_names = ['Strongly disagree', 'Disagree',\n",
        "                  'Neutral', 'Agree', 'Strongly agree']\n",
        "# results = {\n",
        "#     'Question 1': [10, 15, 17, 32, 26],\n",
        "#     'Question 2': [26, 22, 29, 10, 13],\n",
        "#     'Question 3': [35, 37, 7, 2, 19],\n",
        "#     'Question 4': [32, 11, 9, 15, 33],\n",
        "# }\n",
        "results = get_UES_viz(df_TTM_G, 56)\n",
        "\n",
        "def survey(results, category_names):\n",
        "    \"\"\"\n",
        "    Parameters\n",
        "    ----------\n",
        "    results : dict\n",
        "        A mapping from question labels to a list of answers per category.\n",
        "        It is assumed all lists contain the same number of entries and that\n",
        "        it matches the length of *category_names*. The order is assumed\n",
        "        to be from 'Strongly disagree' to 'Strongly aisagree'\n",
        "    category_names : list of str\n",
        "        The category labels.\n",
        "    \"\"\"\n",
        "\n",
        "    labels = list(results.keys())\n",
        "    data = np.array(list(results.values()))\n",
        "    data_cum = data.cumsum(axis=1)\n",
        "    middle_index = data.shape[1]//2\n",
        "    offsets = data[:, range(middle_index)].sum(axis=1) + data[:, middle_index]/2\n",
        "\n",
        "    # Color Mapping\n",
        "    category_colors = plt.get_cmap('gray')(\n",
        "        np.linspace(0.15, 0.85, data.shape[1]))\n",
        "\n",
        "    fig, ax = plt.subplots(figsize=(10, 5))\n",
        "\n",
        "    # Plot Bars\n",
        "    for i, (colname, color) in enumerate(zip(category_names, category_colors)):\n",
        "        widths = data[:, i]\n",
        "        starts = data_cum[:, i] - widths - offsets\n",
        "        rects = ax.barh(labels, widths, left=starts, height=0.5,\n",
        "                        label=colname, color=color)\n",
        "\n",
        "    # Add Zero Reference Line\n",
        "    ax.axvline(0, linestyle='--', color='black', alpha=.25)\n",
        "\n",
        "    # X Axis\n",
        "    ax.set_xlim(-100, 100)\n",
        "    ax.set_xticks(np.arange(-100, 101, 10))\n",
        "    ax.xaxis.set_major_formatter(lambda x, pos: str(abs(int(x))))\n",
        "\n",
        "    # Y Axis\n",
        "    ax.invert_yaxis()\n",
        "\n",
        "    # Remove spines\n",
        "    ax.spines['right'].set_visible(False)\n",
        "    ax.spines['top'].set_visible(False)\n",
        "    ax.spines['left'].set_visible(False)\n",
        "\n",
        "    # Legend\n",
        "    ax.legend(ncol=len(category_names), bbox_to_anchor=(0, 1),\n",
        "              loc='lower left', fontsize='medium')\n",
        "\n",
        "    # Set Background Color\n",
        "    fig.set_facecolor('#FFFFFF')\n",
        "\n",
        "    return fig, ax\n",
        "\n",
        "\n",
        "fig, ax = survey(results_q4, category_names)\n",
        "# plt.show()\n",
        "fig.tight_layout()\n",
        "# Save the plot as a high-quality PDF file\n",
        "plt.savefig('UES_q4.pdf', dpi=300)"
      ],
      "metadata": {
        "colab": {
          "base_uri": "https://localhost:8080/",
          "height": 510
        },
        "id": "ey77I2GN1MqG",
        "outputId": "dc13d6c0-4bbd-4269-8c31-e09cdafffbfc"
      },
      "execution_count": null,
      "outputs": [
        {
          "output_type": "stream",
          "name": "stdout",
          "text": [
            "{'Q 1': [7.41, 22.22, 25.93, 40.74, 3.7], 'Q 2': [3.7, 25.93, 14.81, 44.44, 11.11], 'Q 3': [11.11, 48.15, 25.93, 14.81, 0], 'Q 4': [0, 18.52, 33.33, 44.44, 3.7]}\n"
          ]
        },
        {
          "output_type": "display_data",
          "data": {
            "text/plain": [
              "<Figure size 800x500 with 1 Axes>"
            ],
            "image/png": "[encoded data removed]"
          },
          "metadata": {}
        }
      ]
    },
    {
      "cell_type": "code",
      "source": [],
      "metadata": {
        "id": "q-Ch15VZG_kp"
      },
      "execution_count": null,
      "outputs": []
    }
  ]
}